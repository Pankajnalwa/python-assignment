{
  "nbformat": 4,
  "nbformat_minor": 0,
  "metadata": {
    "colab": {
      "provenance": []
    },
    "kernelspec": {
      "name": "python3",
      "display_name": "Python 3"
    },
    "language_info": {
      "name": "python"
    }
  },
  "cells": [
    {
      "cell_type": "markdown",
      "source": [
        "# Python assignment-"
      ],
      "metadata": {
        "id": "nMA-LP5NasTG"
      }
    },
    {
      "cell_type": "markdown",
      "source": [
        "#1.What is the Python and why is it popular?\n",
        "\n",
        "Ans-> Python is a high-level, interpreted programming language known for its simplicity, readability, and versatility. Its “beginner-friendly” language because its syntax is similar to plain English.Write once, run anywhere—Windows, Linux, or macOS.Tons of libraries, tutorials, and tools created and shared by developers worldwide"
      ],
      "metadata": {
        "id": "XKG9GviENDjb"
      }
    },
    {
      "cell_type": "markdown",
      "source": [
        "#2.What is an interpreterin python ?\n",
        "\n",
        "Ans->An interpreter in Python is a program that reads and executes your code line by line. Unlike compiled languages (like C or Java), which are converted into machine code all at once, Python code is interpreted on the fly."
      ],
      "metadata": {
        "id": "8c9WblTbNoPu"
      }
    },
    {
      "cell_type": "markdown",
      "source": [
        "#3.What are pre-defined keywords in python?\n",
        "\n",
        "Ans->Predefined keywords (also called reserved words) are special words in Python that have a fixed meaning. These words are built into the language and cannot be used as variable names, function names, or identifiers."
      ],
      "metadata": {
        "id": "ECXvab_sP2aH"
      }
    },
    {
      "cell_type": "code",
      "source": [
        "import keyword\n",
        "print(keyword.kwlist)"
      ],
      "metadata": {
        "colab": {
          "base_uri": "https://localhost:8080/"
        },
        "id": "ghqimpm6Ry2o",
        "outputId": "4d237d25-687e-4eb0-96b0-8c41fc9e21ea"
      },
      "execution_count": null,
      "outputs": [
        {
          "output_type": "stream",
          "name": "stdout",
          "text": [
            "['False', 'None', 'True', 'and', 'as', 'assert', 'async', 'await', 'break', 'class', 'continue', 'def', 'del', 'elif', 'else', 'except', 'finally', 'for', 'from', 'global', 'if', 'import', 'in', 'is', 'lambda', 'nonlocal', 'not', 'or', 'pass', 'raise', 'return', 'try', 'while', 'with', 'yield']\n"
          ]
        }
      ]
    },
    {
      "cell_type": "markdown",
      "source": [
        "#4.Can keywords be used as variable names?\n",
        "\n",
        "Ans->No keywords cannot be used as variable names in python.Because keywords have special meanings in the language. If you use them as variable names, Python gets confused — it won’t know whether you’re trying to use the keyword or a variable."
      ],
      "metadata": {
        "id": "NGo83GXcStLS"
      }
    },
    {
      "cell_type": "markdown",
      "source": [
        "#5.What is mutability in python?\n",
        "\n",
        "Ans->Mutability refers to whether an object can be changed after it's created. If it can be changed, it's called mutable."
      ],
      "metadata": {
        "id": "AT9-dndsTslW"
      }
    },
    {
      "cell_type": "markdown",
      "source": [
        "#6.Why are lists mutable but tuples are immutable?\n",
        "\n",
        "Ans-> Lists are Mutable because:-\n",
        "\n",
        "A list in Python is designed to be flexible.\n",
        "\n",
        "You can add, remove, or change items in it after it’s created.\n",
        "\n",
        "Internally, lists are built to support these operations efficiently\n",
        "\n",
        " Tuples are Immutable because:-\n",
        "\n",
        "A tuple is made to be fixed and safe.\n",
        "\n",
        "Once created, you can't change its contents — not even one item.\n",
        "\n",
        "This makes tuples faster and more memory-efficient.\n",
        "\n",
        "Python also uses them for fixed data like coordinates, dates, or dictionary keys.\n"
      ],
      "metadata": {
        "id": "FQI8HzguUb54"
      }
    },
    {
      "cell_type": "markdown",
      "source": [
        "#7.What is the difference b/w \"==\" and \"is\" opreators in python?\n",
        "\n",
        "Ans->\"==\" equality operator:-\n",
        "Checks if values are equal (i.e.- do the objects contain the same data).Compares content, not memory location.\n",
        "\n",
        "\"is\" identity operator:-Checks if both variables point to the exact same object in memory.Compares identity, not content.\n"
      ],
      "metadata": {
        "id": "2lFdU2P5UZXy"
      }
    },
    {
      "cell_type": "markdown",
      "source": [
        "#8.What are logical opertors in python?\n",
        "\n",
        "Ans->Logical operators are used to combine conditional statements. They return True or False based on the logic."
      ],
      "metadata": {
        "id": "Ysz3zU1dVq8M"
      }
    },
    {
      "cell_type": "markdown",
      "source": [
        "#9.what is type casting in python?\n",
        "\n",
        "Ans->Type casting means converting one data type into another, like turning a string into a number or a float into an integer."
      ],
      "metadata": {
        "id": "FrycuFWGfYYv"
      }
    },
    {
      "cell_type": "markdown",
      "source": [
        "#10.what is the difference b/w implicit and explicit type casting?\n",
        "\n",
        "Ans->Implicit type casting(automatic)\n",
        "Python automatically converts smaller data types to larger ones during operations.\n",
        ":-Explicit Type Casting (Manual)\n",
        "You manually convert data types using functions like:\n",
        "\n"
      ],
      "metadata": {
        "id": "tsgd2iNFgK54"
      }
    },
    {
      "cell_type": "markdown",
      "source": [
        "#11.What is the purpose of conditional statements in python?\n",
        "\n",
        "Ans->Conditional statements are used to make decisions in program.\n",
        "They let Python choose different actions based on different condition .Help control program flow.Make code dynamic (responds to input or values).Allow your code to act differently in different situation."
      ],
      "metadata": {
        "id": "G_OJsKc8iGJx"
      }
    },
    {
      "cell_type": "markdown",
      "source": [
        "#12.how does the elif statement work?\n",
        "\n",
        "Ans->The elif statement (short for \"else if\") is used to check multiple conditions after an initial if condition.To avoid writing multiple separate if statements and make your decision-making clear and efficient."
      ],
      "metadata": {
        "id": "XNP0WoBnmJFG"
      }
    },
    {
      "cell_type": "markdown",
      "source": [
        "#13.What is the difference b/w for and while loop?\n",
        "\n",
        "Ans->For loop:-Used when you know in advance how many times to loop (like iterating over a list or range).\n",
        "\n",
        "While loop:- Used when you don’t know how many times to loop, but you want to continue until a condition becomes False."
      ],
      "metadata": {
        "id": "fQo7uQA8m5YB"
      }
    },
    {
      "cell_type": "markdown",
      "source": [
        "#14.Discribe the scenario where a whileloop is more suitable than a for loop?\n",
        "\n",
        "Ans->A while loop is more suitable in scenarios where we don’t know in advance how many times the loop should run, and we want the loop to continue based on a condition that may change during execution."
      ],
      "metadata": {
        "id": "0yyXYd9qnzvT"
      }
    },
    {
      "cell_type": "markdown",
      "source": [
        "#Practical Questions"
      ],
      "metadata": {
        "id": "B3bl9lU8p4sq"
      }
    },
    {
      "cell_type": "markdown",
      "source": [
        "#1.Write a python program to print (\"Hello World\")"
      ],
      "metadata": {
        "id": "bzyGs7wBqpPp"
      }
    },
    {
      "cell_type": "code",
      "source": [
        "#program to print \"Hello World\"\n",
        "print(\"Hello world\")"
      ],
      "metadata": {
        "colab": {
          "base_uri": "https://localhost:8080/"
        },
        "id": "wo3SqcGdooK-",
        "outputId": "0f389eb5-bc5e-4a54-8538-17d16d2b4631"
      },
      "execution_count": null,
      "outputs": [
        {
          "output_type": "stream",
          "name": "stdout",
          "text": [
            "Hello world\n"
          ]
        }
      ]
    },
    {
      "cell_type": "markdown",
      "source": [
        "#2.Write a python program that displays your name and age."
      ],
      "metadata": {
        "id": "1PFga0DapXOj"
      }
    },
    {
      "cell_type": "code",
      "source": [
        "# Program to display name and age\n",
        "\n",
        "name = \"Pankaj\"\n",
        "age = 30\n",
        "\n",
        "print(\"My name is\", name)\n",
        "print(\"I am\", age, \"years old.\")\n"
      ],
      "metadata": {
        "colab": {
          "base_uri": "https://localhost:8080/"
        },
        "id": "HXxpTngapleO",
        "outputId": "1a6116f7-9d60-44de-aec6-eaf814ba0b53"
      },
      "execution_count": null,
      "outputs": [
        {
          "output_type": "stream",
          "name": "stdout",
          "text": [
            "My name is Pankaj\n",
            "I am 30 years old.\n"
          ]
        }
      ]
    },
    {
      "cell_type": "markdown",
      "source": [
        "#3.write code to print all the predefined keywords in python using the keyword library."
      ],
      "metadata": {
        "id": "ufdlaEJqra0o"
      }
    },
    {
      "cell_type": "code",
      "source": [
        "# Get the list of all keywords\n",
        "import keyword\n",
        "keywords_list =  keyword.kwlist\n",
        "print(\"python keywords\")\n",
        "for keyword in keywords_list:\n",
        "  print(keyword)\n"
      ],
      "metadata": {
        "colab": {
          "base_uri": "https://localhost:8080/"
        },
        "id": "hxd7_F2ary8S",
        "outputId": "2da1e7d6-3755-4af3-86bc-fa42f4d6f94b"
      },
      "execution_count": null,
      "outputs": [
        {
          "output_type": "stream",
          "name": "stdout",
          "text": [
            "python keywords\n",
            "False\n",
            "None\n",
            "True\n",
            "and\n",
            "as\n",
            "assert\n",
            "async\n",
            "await\n",
            "break\n",
            "class\n",
            "continue\n",
            "def\n",
            "del\n",
            "elif\n",
            "else\n",
            "except\n",
            "finally\n",
            "for\n",
            "from\n",
            "global\n",
            "if\n",
            "import\n",
            "in\n",
            "is\n",
            "lambda\n",
            "nonlocal\n",
            "not\n",
            "or\n",
            "pass\n",
            "raise\n",
            "return\n",
            "try\n",
            "while\n",
            "with\n",
            "yield\n"
          ]
        }
      ]
    },
    {
      "cell_type": "markdown",
      "source": [
        "#4.Write a program that checks if a given word ia a python keywords?\n"
      ],
      "metadata": {
        "id": "khX5D-2W23j0"
      }
    },
    {
      "cell_type": "code",
      "source": [
        "import keyword\n",
        "word = input(\"Enter a word: \")\n",
        "if keyword.iskeyword(word):\n",
        "  print(f\"{word} is a Python keyword.\")\n",
        "else:\n",
        "  print(f\"{word} is not a Python keyword.\")\n",
        "\n"
      ],
      "metadata": {
        "colab": {
          "base_uri": "https://localhost:8080/"
        },
        "id": "Cgu6uvih5MR2",
        "outputId": "4b7b1135-b5dc-41e6-e5a1-6488779fd9db"
      },
      "execution_count": null,
      "outputs": [
        {
          "output_type": "stream",
          "name": "stdout",
          "text": [
            "Enter a word: for\n",
            "for is a Python keyword.\n"
          ]
        }
      ]
    },
    {
      "cell_type": "markdown",
      "source": [
        "#5.create a list and tuple in python , and demonstrate how attempting to change an element works differently for each ."
      ],
      "metadata": {
        "id": "l5XElX6E6jhm"
      }
    },
    {
      "cell_type": "code",
      "source": [
        "my_list = [10,20,30,40,50]\n",
        "my_tuple = (10,20,30,40,50)\n",
        "print(\"original list:\",my_list)\n",
        "my_list[1]=9\n",
        "print(\"modified list:\",my_list)\n",
        "print(\"original tuple:\",my_tuple)\n",
        "my_tuple[1]=9\n",
        "print(\"modified tuple:\",my_tuple)"
      ],
      "metadata": {
        "colab": {
          "base_uri": "https://localhost:8080/",
          "height": 245
        },
        "id": "DkTKtHrU-LOt",
        "outputId": "6242a75d-88da-4e8a-c6e1-1439b4a23420"
      },
      "execution_count": null,
      "outputs": [
        {
          "output_type": "stream",
          "name": "stdout",
          "text": [
            "original list: [10, 20, 30, 40, 50]\n",
            "modified list: [10, 9, 30, 40, 50]\n",
            "original tuple: (10, 20, 30, 40, 50)\n"
          ]
        },
        {
          "output_type": "error",
          "ename": "TypeError",
          "evalue": "'tuple' object does not support item assignment",
          "traceback": [
            "\u001b[0;31m---------------------------------------------------------------------------\u001b[0m",
            "\u001b[0;31mTypeError\u001b[0m                                 Traceback (most recent call last)",
            "\u001b[0;32m<ipython-input-6-3c140808ae72>\u001b[0m in \u001b[0;36m<cell line: 0>\u001b[0;34m()\u001b[0m\n\u001b[1;32m      5\u001b[0m \u001b[0mprint\u001b[0m\u001b[0;34m(\u001b[0m\u001b[0;34m\"modified list:\"\u001b[0m\u001b[0;34m,\u001b[0m\u001b[0mmy_list\u001b[0m\u001b[0;34m)\u001b[0m\u001b[0;34m\u001b[0m\u001b[0;34m\u001b[0m\u001b[0m\n\u001b[1;32m      6\u001b[0m \u001b[0mprint\u001b[0m\u001b[0;34m(\u001b[0m\u001b[0;34m\"original tuple:\"\u001b[0m\u001b[0;34m,\u001b[0m\u001b[0mmy_tuple\u001b[0m\u001b[0;34m)\u001b[0m\u001b[0;34m\u001b[0m\u001b[0;34m\u001b[0m\u001b[0m\n\u001b[0;32m----> 7\u001b[0;31m \u001b[0mmy_tuple\u001b[0m\u001b[0;34m[\u001b[0m\u001b[0;36m1\u001b[0m\u001b[0;34m]\u001b[0m\u001b[0;34m=\u001b[0m\u001b[0;36m9\u001b[0m\u001b[0;34m\u001b[0m\u001b[0;34m\u001b[0m\u001b[0m\n\u001b[0m\u001b[1;32m      8\u001b[0m \u001b[0mprint\u001b[0m\u001b[0;34m(\u001b[0m\u001b[0;34m\"modified tuple:\"\u001b[0m\u001b[0;34m,\u001b[0m\u001b[0mmy_tuple\u001b[0m\u001b[0;34m)\u001b[0m\u001b[0;34m\u001b[0m\u001b[0;34m\u001b[0m\u001b[0m\n",
            "\u001b[0;31mTypeError\u001b[0m: 'tuple' object does not support item assignment"
          ]
        }
      ]
    },
    {
      "cell_type": "markdown",
      "source": [
        "#6.write a function to demonstrate the behavior of mutable and immutable argument?"
      ],
      "metadata": {
        "id": "2NWvPdSR_7u7"
      }
    },
    {
      "cell_type": "code",
      "source": [
        "#function to modify a mutable object(list)\n",
        "def modify_list(my_list):\n",
        "  my_list.append(4)\n",
        "  print(\"Inside the function:\",my_list)\n",
        "  original_list = [1,2,3]\n",
        "  print(\"Before the function call:\",original_list)\n",
        "  modify_list(original_list)\n",
        "  print(\"After the function call:\",original_list)\n",
        "\n",
        "  #function to modify a immutable object (integer)\n",
        "  def modify_integer(my_int):\n",
        "    my_int = 10\n",
        "    print(\"Inside the function:\",my_int)\n",
        "    original_int = 5\n",
        "    print(\"Before the function call:\",original_int)\n",
        "    modify_integer(original_int)\n",
        "    print(\"After the function call:\",original_int)"
      ],
      "metadata": {
        "id": "tzVrBP-RASl-"
      },
      "execution_count": null,
      "outputs": []
    },
    {
      "cell_type": "markdown",
      "source": [
        "#7.write a program that perform basic arithmetic operation on two user input numbers?"
      ],
      "metadata": {
        "id": "50HoC_cSDjMM"
      }
    },
    {
      "cell_type": "code",
      "source": [
        "# get user input\n",
        "num1 = float(input(\"Enter the first number:\"))\n",
        "num2 = float(input(\"Enter the second number:\"))\n",
        "\n",
        "#perform arithmetic operations\n",
        "print(\"Addition:\",num1+num2)\n",
        "print(\"Subtraction:\",num1-num2)\n",
        "print(\"Multiplication:\",num1*num2)\n",
        "print(\"Division:\",num1/num2)\n",
        "print(\"Modulus:\",num1%num2)"
      ],
      "metadata": {
        "colab": {
          "base_uri": "https://localhost:8080/"
        },
        "id": "pSzC4ZofEWs8",
        "outputId": "71e0f10d-bab7-4f5d-c435-44c424606b72"
      },
      "execution_count": null,
      "outputs": [
        {
          "output_type": "stream",
          "name": "stdout",
          "text": [
            "Enter the first number:10\n",
            "Enter the second number:5\n",
            "Addition: 15.0\n",
            "Subtraction: 5.0\n",
            "Multiplication: 50.0\n",
            "Division: 2.0\n",
            "Modulus: 0.0\n"
          ]
        }
      ]
    },
    {
      "cell_type": "markdown",
      "source": [
        "#8.write a program to demonstrate the use of logical operators."
      ],
      "metadata": {
        "id": "zNrhC1pNFAoW"
      }
    },
    {
      "cell_type": "code",
      "source": [
        "#program to demonstrate logical operators\n",
        "a=int(input(\"enter first number(a):\"))\n",
        "b=int(input(\"enter second number(b):\"))\n",
        "print(\"a==b:\",a==b)\n",
        "print(\"a!=b:\",a!=b)\n",
        "print(\"a>b:\",a>b)\n",
        "print(\"a<b:\",a<b)"
      ],
      "metadata": {
        "colab": {
          "base_uri": "https://localhost:8080/"
        },
        "id": "AicOnDWLF-GJ",
        "outputId": "6c5f6877-e491-4c5a-f5e6-f99363611ac5"
      },
      "execution_count": null,
      "outputs": [
        {
          "output_type": "stream",
          "name": "stdout",
          "text": [
            "enter first number(a):10\n",
            "enter second number(b):5\n",
            "a==b: False\n",
            "a!=b: True\n",
            "a>b: True\n",
            "a<b: False\n"
          ]
        }
      ]
    },
    {
      "cell_type": "markdown",
      "source": [
        "#9.write a python program to convert user input from string to integer, float and boolean types."
      ],
      "metadata": {
        "id": "MoKCFcZwHE21"
      }
    },
    {
      "cell_type": "code",
      "source": [
        "user_input = input(\"Enter a value:\")\n",
        "\n",
        "# convert to integer\n",
        "try:\n",
        "    integer_value = int(user_input)\n",
        "    print(\"integer value:\", integer_value)\n",
        "except ValueError:\n",
        "    print(\"Invalid input. Please enter a valid integer.\")\n",
        "\n",
        "# convert to float\n",
        "try:\n",
        "    float_value = float(user_input)\n",
        "    print(\"float value:\", float_value)\n",
        "except ValueError:\n",
        "    print(\"Invalid input. Please enter a valid float.\")\n",
        "\n",
        "# convert to boolean\n",
        "# The bool() function in Python converts any non-empty string to True and an empty string to False.\n",
        "# It does not raise a ValueError for invalid input in the same way int() and float() do.\n",
        "boolean_value = bool(user_input)\n",
        "print(\"boolean value:\", boolean_value)"
      ],
      "metadata": {
        "colab": {
          "base_uri": "https://localhost:8080/"
        },
        "id": "Ju5j8jWUHhyU",
        "outputId": "88dd6813-575e-4f79-c75c-8e80082e4255"
      },
      "execution_count": null,
      "outputs": [
        {
          "output_type": "stream",
          "name": "stdout",
          "text": [
            "Enter a value:10\n",
            "integer value: 10\n",
            "float value: 10.0\n",
            "boolean value: True\n"
          ]
        }
      ]
    },
    {
      "cell_type": "markdown",
      "source": [
        "#10.write code to demonstrate tpye casting with list elements."
      ],
      "metadata": {
        "id": "pLnsfXEBJ8Lh"
      }
    },
    {
      "cell_type": "code",
      "source": [
        "str_list = [\"1\", \"2\", \"3\", \"4\", \"5\"]\n",
        "int_list = []\n",
        "for element in str_list:\n",
        "  int_list.append(int(element))\n",
        "print(\"Original list of strings:\", str_list)\n",
        "print(\"Converted list of integers:\", int_list)\n",
        "\n",
        "float_list = []\n",
        "for element in str_list:\n",
        "  float_list.append(float(element))\n",
        "print(\"Converted list of floats:\", float_list)\n",
        "\n",
        "boolean_list = []\n",
        "for element in str_list:\n",
        "  boolean_list.append(bool(element))\n",
        "print(\"Converted list of booleans:\", boolean_list)"
      ],
      "metadata": {
        "colab": {
          "base_uri": "https://localhost:8080/"
        },
        "id": "-GBzBmJ4K7Xg",
        "outputId": "e3f992b2-237b-4fed-b2c3-a4c69a58ac6d"
      },
      "execution_count": null,
      "outputs": [
        {
          "output_type": "stream",
          "name": "stdout",
          "text": [
            "Original list of strings: ['1', '2', '3', '4', '5']\n",
            "Converted list of integers: [1, 2, 3, 4, 5]\n",
            "Converted list of floats: [1.0, 2.0, 3.0, 4.0, 5.0]\n",
            "Converted list of booleans: [True, True, True, True, True]\n"
          ]
        }
      ]
    },
    {
      "cell_type": "markdown",
      "source": [
        "#11.write a program that checks if a number is positive, negative, or zero."
      ],
      "metadata": {
        "id": "WWkVBdaXMznw"
      }
    },
    {
      "cell_type": "code",
      "source": [
        "num=float(input(\"enter a number:\"))\n",
        "if num>0:\n",
        "  print(\"positive number\")\n",
        "elif num<0:\n",
        "  print(\"negative number\")\n",
        "else:\n",
        "  print(\"zero\")"
      ],
      "metadata": {
        "colab": {
          "base_uri": "https://localhost:8080/"
        },
        "id": "F9Ph8xjfNL-3",
        "outputId": "38208d6f-214d-49df-e213-bbf9fc19d474"
      },
      "execution_count": null,
      "outputs": [
        {
          "output_type": "stream",
          "name": "stdout",
          "text": [
            "enter a number:1\n",
            "positive number\n"
          ]
        }
      ]
    },
    {
      "cell_type": "markdown",
      "source": [
        "#12.write a for loop to print numbers from 1 to 10."
      ],
      "metadata": {
        "id": "tAh_YNajOXL7"
      }
    },
    {
      "cell_type": "code",
      "source": [
        "for i in range(1,11):\n",
        "  print(i)"
      ],
      "metadata": {
        "colab": {
          "base_uri": "https://localhost:8080/"
        },
        "id": "SvTxN4_-OrFL",
        "outputId": "7842979e-ef0f-4adb-9ff7-78efaf473b0b"
      },
      "execution_count": null,
      "outputs": [
        {
          "output_type": "stream",
          "name": "stdout",
          "text": [
            "1\n",
            "2\n",
            "3\n",
            "4\n",
            "5\n",
            "6\n",
            "7\n",
            "8\n",
            "9\n",
            "10\n"
          ]
        }
      ]
    },
    {
      "cell_type": "markdown",
      "source": [
        "#13.write a python program to find the sum of all even numbers between 1and 50"
      ],
      "metadata": {
        "id": "j25eqSKLPh5w"
      }
    },
    {
      "cell_type": "code",
      "source": [
        "even_sum = 0\n",
        "for num in range(2, 51, 2):\n",
        "  even_sum += num\n",
        "print(\"The sum of even numbers from 1 to 50 is:\", even_sum)"
      ],
      "metadata": {
        "colab": {
          "base_uri": "https://localhost:8080/"
        },
        "id": "34ZHWLpcQN29",
        "outputId": "a44b71c3-9c2e-4b6d-cd60-3d4585cbd7d9"
      },
      "execution_count": null,
      "outputs": [
        {
          "output_type": "stream",
          "name": "stdout",
          "text": [
            "The sum of even numbers from 1 to 50 is: 650\n"
          ]
        }
      ]
    },
    {
      "cell_type": "markdown",
      "source": [
        "#14.write a program to reverse using a while loop."
      ],
      "metadata": {
        "id": "Jnekn_c-QXpq"
      }
    },
    {
      "cell_type": "code",
      "source": [
        "text = input(\"Enter a string to reverse: \")\n",
        "reversed_text = \"\"\n",
        "length = len(text)\n",
        "index = length - 1\n",
        "\n",
        "while index >= 0:\n",
        "  reversed_text += text[index]\n",
        "  index -= 1\n",
        "print(\"Reversed text:\", reversed_text)"
      ],
      "metadata": {
        "colab": {
          "base_uri": "https://localhost:8080/"
        },
        "id": "xG_oH_FGQsLx",
        "outputId": "a3009fb1-973a-48b4-c825-886fee1f6f01"
      },
      "execution_count": null,
      "outputs": [
        {
          "output_type": "stream",
          "name": "stdout",
          "text": [
            "Enter a string to reverse: pankaj\n",
            "Reversed text: jaknap\n"
          ]
        }
      ]
    },
    {
      "cell_type": "markdown",
      "source": [
        "#15.write a python program to calculate the factorial of a number provided by the user using while loop."
      ],
      "metadata": {
        "id": "jl8KCKOJRby_"
      }
    },
    {
      "cell_type": "code",
      "source": [
        "num = int(input(\"Enter a number: \"))\n",
        "factorial = 1\n",
        "current = 1\n",
        "\n",
        "while current <= num:\n",
        "  factorial *= current\n",
        "  current += 1\n",
        "print(f\"The factorial of {num} is {factorial}\")"
      ],
      "metadata": {
        "colab": {
          "base_uri": "https://localhost:8080/"
        },
        "id": "0xlLyPwJSAh_",
        "outputId": "061cb119-a5d6-433f-ee6e-d73503b0f79d"
      },
      "execution_count": null,
      "outputs": [
        {
          "output_type": "stream",
          "name": "stdout",
          "text": [
            "Enter a number: 5\n",
            "The factorial of 5 is 120\n"
          ]
        }
      ]
    }
  ]
}